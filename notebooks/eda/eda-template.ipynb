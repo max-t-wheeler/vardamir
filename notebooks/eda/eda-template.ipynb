{
 "cells": [
  {
   "cell_type": "markdown",
   "id": "8816350e",
   "metadata": {},
   "source": [
    "## Load Dependencies"
   ]
  },
  {
   "cell_type": "code",
   "execution_count": null,
   "id": "8723c5d1",
   "metadata": {},
   "outputs": [],
   "source": [
    "import os\n",
    "\n",
    "import pandas as pd\n",
    "\n",
    "from ydata_profiling import ProfileReport\n",
    "\n",
    "if os.environ.get('working_dir_set') is None:\n",
    "    os.chdir('../../')\n",
    "    os.environ['working_dir_set'] = 'true'\n",
    "\n",
    "from vardamir.gcp_utils import mount_google_drive\n",
    "from vardamir.notebook_utils import get_notebook_config"
   ]
  },
  {
   "cell_type": "markdown",
   "id": "4f8c73d5",
   "metadata": {},
   "source": [
    "## Connect to Google Drive"
   ]
  },
  {
   "cell_type": "code",
   "execution_count": null,
   "id": "085933cb",
   "metadata": {},
   "outputs": [],
   "source": [
    "mount_google_drive()"
   ]
  },
  {
   "cell_type": "markdown",
   "id": "62e1442d",
   "metadata": {},
   "source": [
    "## Load Notebook Config"
   ]
  },
  {
   "cell_type": "code",
   "execution_count": null,
   "id": "0a110e90",
   "metadata": {},
   "outputs": [],
   "source": [
    "config_file_path = os.path.join(os.getcwd(), 'notebooks/eda/eda-template-config.yaml')\n",
    "\n",
    "config = get_notebook_config(config_file_path)"
   ]
  },
  {
   "cell_type": "code",
   "execution_count": null,
   "id": "6986fb95",
   "metadata": {},
   "outputs": [],
   "source": [
    "pandas_config = config.get('pandas_config')\n",
    "\n",
    "pd.options.display.max_columns = pandas_config.get('max_columns')\n",
    "pd.options.display.max_rows = pandas_config.get('max_rows')"
   ]
  },
  {
   "cell_type": "markdown",
   "id": "f0718f3c",
   "metadata": {},
   "source": [
    "## Load Data"
   ]
  },
  {
   "cell_type": "code",
   "execution_count": null,
   "id": "bb24a7db",
   "metadata": {},
   "outputs": [],
   "source": [
    "data_file_path = config.get('data_file_path')\n",
    "\n",
    "data = pd.read_csv(data_file_path)"
   ]
  },
  {
   "cell_type": "markdown",
   "id": "972f2aee",
   "metadata": {},
   "source": [
    "## Profile Data"
   ]
  },
  {
   "cell_type": "code",
   "execution_count": null,
   "id": "966fa0ee",
   "metadata": {},
   "outputs": [],
   "source": [
    "if config.get('run_pandas_profile'):\n",
    "  profile = ProfileReport(data, title=\"Profiling Report\", minimal=True)\n",
    "  profile.to_notebook_iframe()"
   ]
  },
  {
   "cell_type": "code",
   "execution_count": null,
   "id": "ec42d710",
   "metadata": {},
   "outputs": [],
   "source": []
  }
 ],
 "metadata": {
  "kernelspec": {
   "display_name": "venv",
   "language": "python",
   "name": "python3"
  },
  "language_info": {
   "name": "python",
   "version": "3.10.12"
  }
 },
 "nbformat": 4,
 "nbformat_minor": 5
}
